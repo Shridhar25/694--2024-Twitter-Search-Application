{
 "cells": [
  {
   "cell_type": "markdown",
   "metadata": {},
   "source": [
    "# Reading the JSON file and extracting the relevant Users/info, Then inserting into the PostgreSQL Table"
   ]
  },
  {
   "cell_type": "code",
   "execution_count": null,
   "metadata": {},
   "outputs": [],
   "source": [
    "#Importing Necessary Liibraries\n",
    "import pandas as pd\n",
    "import numpy as np\n",
    "import psycopg2 #PostgreSQL\n",
    "import json"
   ]
  },
  {
   "cell_type": "code",
   "execution_count": null,
   "metadata": {},
   "outputs": [],
   "source": [
    "#PostgreSQL Connection\n",
    "# Connecting to the PostgreSQL server. Replace user, password, and dbname with your credentials\n",
    "conn = psycopg2.connect(\n",
    "    dbname=\"twitter_data\",\n",
    "    user=\"postgres\",\n",
    "    password=\"1234\",\n",
    "    host=\"localhost\",\n",
    "    port=\"5432\"\n",
    ")\n",
    "conn.autocommit = True"
   ]
  },
  {
   "cell_type": "code",
   "execution_count": null,
   "metadata": {},
   "outputs": [],
   "source": [
    "try:\n",
    "    cursor = conn.cursor()\n",
    "    create_table_query = \"\"\"CREATE TABLE IF NOT EXISTS user_details (\n",
    "        id_str VARCHAR(255),\n",
    "        name VARCHAR(255),\n",
    "        screen_name VARCHAR(255),\n",
    "        url VARCHAR(255),\n",
    "        description TEXT,\n",
    "        verified BOOLEAN,\n",
    "        followers_count INT,\n",
    "        friends_count INT,\n",
    "        favourites_count INT,\n",
    "        statuses_count INT,\n",
    "        created_at TIMESTAMP\n",
    "        );\n",
    "        \"\"\"\n",
    "    cursor.execute(create_table_query)\n",
    "    print(\"Table 'user_details' created successfully or already exists.\")\n",
    "except psycopg2.Error as e:\n",
    "    print(\"Error creating table:\", e)"
   ]
  },
  {
   "cell_type": "code",
   "execution_count": null,
   "metadata": {},
   "outputs": [],
   "source": [
    "def insert_user(user_data, table_name='user_details'):\n",
    "    \"\"\"Insert a single user into the specified table.\"\"\"\n",
    "    try:\n",
    "        cursor = conn.cursor()\n",
    "        \n",
    "        # Check if user already exists\n",
    "        select_query = f\"SELECT EXISTS(SELECT 1 FROM {table_name} WHERE id_str = %s);\"\n",
    "        cursor.execute(select_query, (user_data['id_str'],))\n",
    "        user_exists = cursor.fetchone()[0]\n",
    "\n",
    "        if user_exists:\n",
    "            print(f\"User with ID {user_data['id_str']} already exists in the database. Skipping insertion.\")\n",
    "            return\n",
    "\n",
    "        # Insert the new user\n",
    "        columns = \", \".join(user_data.keys())\n",
    "        values_placeholder = \", \".join([\"%s\" for _ in user_data.keys()])\n",
    "        insert_query = f\"INSERT INTO {table_name} ({columns}) VALUES ({values_placeholder});\"\n",
    "        cursor.execute(insert_query, tuple(user_data.values()))\n",
    "        print(f\"User with ID {user_data['id_str']} inserted into '{table_name}' table.\")\n",
    "    except psycopg2.Error as e:\n",
    "        print(\"Error inserting user:\", e)\n",
    "\n",
    "def find_user_by_id(user_id, table_name='user_details'):\n",
    "    \"\"\"Find a user by their ID in the specified table.\"\"\"\n",
    "    try:\n",
    "        select_query = f\"SELECT * FROM {table_name} WHERE id_str = %s;\"\n",
    "        cursor.execute(select_query, (user_id,))\n",
    "        user = cursor.fetchone()\n",
    "        if user:\n",
    "            print(\"User found:\")\n",
    "            print(user)\n",
    "        else:\n",
    "            print(\"User not found.\")\n",
    "    except psycopg2.Error as e:\n",
    "        print(\"Error finding user:\", e)\n",
    "\n",
    "\n",
    "def find_user_by_name(name, table_name='user_details'):\n",
    "    \"\"\"Find a user by their name in the specified table.\"\"\"\n",
    "    try:\n",
    "        select_query = f\"SELECT * FROM {table_name} WHERE name = %s;\"\n",
    "        cursor.execute(select_query, (name,))\n",
    "        user = cursor.fetchone()\n",
    "        if user:\n",
    "            print(\"User found:\")\n",
    "            print(user)\n",
    "        else:\n",
    "            print(\"User not found.\")\n",
    "    except psycopg2.Error as e:\n",
    "        print(\"Error finding user:\", e)\n",
    "\n",
    "def find_user_by_screen_name(screen_name, table_name='user_details'):\n",
    "    \"\"\"Find a user by their screen name in the specified table.\"\"\"\n",
    "    try:\n",
    "        select_query = f\"SELECT * FROM {table_name} WHERE screen_name = %s;\"\n",
    "        cursor.execute(select_query, (screen_name,))\n",
    "        user = cursor.fetchone()\n",
    "        if user:\n",
    "            print(\"User found:\")\n",
    "            print(user)\n",
    "        else:\n",
    "            print(\"User not found.\")\n",
    "    except psycopg2.Error as e:\n",
    "        print(\"Error finding user:\", e)\n",
    "\n",
    "def delete_user_by_id(user_id, table_name='user_details'):\n",
    "    \"\"\"Delete a user by their ID from the specified table.\"\"\"\n",
    "    try:\n",
    "        delete_query = f\"DELETE FROM {table_name} WHERE id_str = %s;\"\n",
    "        cursor.execute(delete_query, (user_id,))\n",
    "        print(\"User deleted successfully.\")\n",
    "    except psycopg2.Error as e:\n",
    "        print(\"Error deleting user:\", e)\n",
    "\n",
    "\n",
    "def extract_user_info(data):\n",
    "    return {\n",
    "        'id_str': data['user']['id_str'],\n",
    "        'Name': data['user']['name'],\n",
    "        'Screen_name': data['user']['screen_name'],\n",
    "        'url' : data['user']['url'],\n",
    "        'description': data['user']['description'],\n",
    "        'verified': data['user']['verified'],\n",
    "        'followers_count': data['user']['followers_count'],\n",
    "        'friends_count': data['user']['friends_count'],\n",
    "        'favourites_count': data['user']['favourites_count'],\n",
    "        'statuses_count': data['user']['statuses_count'],\n",
    "        'created_at': data['user']['created_at']\n",
    "    }"
   ]
  },
  {
   "cell_type": "code",
   "execution_count": null,
   "metadata": {},
   "outputs": [],
   "source": [
    "def process_users(file_path):\n",
    "    \"\"\"Process users data from a JSON file and insert them into the MongoDB collection.\"\"\"\n",
    "    with open(file_path, \"r\") as read_file:\n",
    "        for line_number,line in enumerate(read_file,start=1):\n",
    "            if line_number%2 !=0:\n",
    "                data = json.loads(line)\n",
    "                user1 = extract_user_info(data)\n",
    "                insert_user(user1)\n",
    "                if 'retweeted_status' in data:\n",
    "                    user2 = extract_user_info(data['retweeted_status'])\n",
    "                    insert_user(user2)\n",
    "                if 'quoted_status' in data:\n",
    "                    user3 = extract_user_info(data['quoted_status'])\n",
    "                    insert_user(user3)\n"
   ]
  },
  {
   "cell_type": "code",
   "execution_count": null,
   "metadata": {},
   "outputs": [],
   "source": [
    "process_users('corona-out-2.json')"
   ]
  },
  {
   "cell_type": "code",
   "execution_count": null,
   "metadata": {},
   "outputs": [],
   "source": [
    "process_users('corona-out-3.json')"
   ]
  }
 ],
 "metadata": {
  "kernelspec": {
   "display_name": "Python 3",
   "language": "python",
   "name": "python3"
  },
  "language_info": {
   "codemirror_mode": {
    "name": "ipython",
    "version": 3
   },
   "file_extension": ".py",
   "mimetype": "text/x-python",
   "name": "python",
   "nbconvert_exporter": "python",
   "pygments_lexer": "ipython3",
   "version": "3.12.2"
  }
 },
 "nbformat": 4,
 "nbformat_minor": 2
}
